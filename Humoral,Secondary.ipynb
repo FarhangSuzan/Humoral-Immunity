{
 "cells": [
  {
   "cell_type": "code",
   "execution_count": 1,
   "metadata": {},
   "outputs": [],
   "source": [
    "using DifferentialEquations, Plots"
   ]
  },
  {
   "cell_type": "code",
   "execution_count": 7,
   "metadata": {},
   "outputs": [
    {
     "data": {
      "text/plain": [
       "Immune! (generic function with 1 method)"
      ]
     },
     "execution_count": 7,
     "metadata": {},
     "output_type": "execute_result"
    }
   ],
   "source": [
    "function Immune!(du,u,h,p,t)\n",
    "    \n",
    "    hist1 = h(p, t-tau)[1] #V\n",
    "    hist2 = h(p, t-tau)[2] #S\n",
    "    hist3 = h(p, t-tau)[3] #I\n",
    "    hist4 = h(p, t-tau)[4] #R\n",
    "    ###Secondary\n",
    "    hist5 = h(p, t-taubm)[1] #V\n",
    "    hist6 = h(p, t-taubm)[10] #M\n",
    "    ###\n",
    "    du[1] = phat*u[3]-dV*u[1]-n*(Emax*u[1]*(u[13]^h2))/((Ic)^h2+u[13]^h2);#V,secondary infection  \n",
    "    du[2] = lamS*(1-(u[2]+u[3]+u[4]+u[5])/Smax)*u[2]-beta*u[2]*u[1];#S\n",
    "    du[3] = (beta/(1+u[7]/eps_F_I))*hist1*hist2*u[8]-dI*u[3];#I\n",
    "    du[4] = lamS*(1-(u[2]+u[3]+u[4]+u[5])/Smax)*u[4]+(beta*hist1*hist2)*u[9]/(1+eps_F_I/u[7]);#R\n",
    "    du[5] = dI*u[3]-dD*u[5];#D\n",
    "    du[6] = psi_F_prod+p_F_I*u[3]/(u[3]+eta_F_I)-k_lin_F*u[6]-k_B_F*((T_star+u[3])*A_F-u[7])*u[6]+k_U_F*u[7];#FU\n",
    "    du[7] = -k_int_F*u[7]+k_B_F*((T_star+u[3])*A_F-u[7])*u[6]-k_U_F*u[7];#FB\n",
    "    du[8] = u[8]*delta*(hist3-u[3])#A1\n",
    "    du[9] = u[9]*delta*(hist4-u[4])#A2\n",
    "    ###Secondary Immune Response:\n",
    "    du[10] = rho_m*(2*Pb-1)*hist5*hist6-delta_m*u[10]#M\n",
    "    du[11] = (1-Pb)*Pp*rho_m*u[10]-delta_b*u[11];#B \n",
    "    du[12] = (1-Pb)*(1-Pp)*rho_m*u[10]-delta_p*u[12];#P\n",
    "    du[13] = a_p*u[12]-delta_a*u[13];#A  \n",
    "end"
   ]
  },
  {
   "cell_type": "code",
   "execution_count": 64,
   "metadata": {},
   "outputs": [],
   "source": [
    "tspan = (0.0,600);\n",
    "#####################################\n",
    "n=0.5;\n",
    "beta = 0.3;eta_F_I=0.022328;\n",
    "tau= 0.17;Smax = 0.16;lamS = 0.74; dI = 0.1; dD=8;phat =394;dV = 8.4;\n",
    "psi_F_prod=0.25;k_lin_F=16.635;k_B_F=0.0107;\n",
    "T_star=1.104*1e-4;k_U_F=6.072;k_int_F=16.968;R_F_T = 1000;R_F_I = 1300;MM_F = 19000;avo=6.02214E23;\n",
    "A_F = (MM_F/avo)*(R_F_I+R_F_T)*(1/5000)*(10^9*1e12);delta = 0.1;\n",
    "###Humoral Immunity\n",
    "mu_b=3.9E-6;#Original\n",
    "delta_bn=0.0124;\n",
    "taub=5;rho=0.0046;\n",
    "alpha_v=0.1;alpha_IL4=0.1;\n",
    "S_IL4=1E+4;\n",
    "mu_t=0.0355;delta_t=0.055;\n",
    "mu_IL4=1.3;delta_IL4=0.0132;\n",
    "#####Secondary\n",
    "taubm=3;\n",
    "rho_m=0.0266;\n",
    "delta_m=0.061;\n",
    "delta_a=0.034;\n",
    "Pb=0.1;\n",
    "Pp=0.9;\n",
    "delta_b=0.0322;\n",
    "delta_p=0.01;\n",
    "delta_ps=0.15\n",
    "rhos=2\n",
    "####*****************************************************************Strong,Delta\n",
    "# a_b=0.0001*20;a_p=0.0001*20;#Minimum,Used\n",
    "# a_ps=0.8*20;a_p=0.8*20;#Mean,Used\n",
    "a_ps=0.8*20;a_p=0.8*20;#Mean,Used\n",
    "# a_b=200*20;a_p=200*20;#Maximum,Used\n",
    "###############\n",
    "#Wuhan\n",
    "#90 \n",
    "# B0 = 19466.123268517622\n",
    "# P0 = 14485.351801742989\n",
    "# M0 = 2715.2898176532435\n",
    "# A0 = 365186.74236199015\n",
    "# ###############\n",
    "# #180\n",
    "# B0 = 1060.3572584705707\n",
    "# P0 = 7031.597925300424\n",
    "# M0 = 2950.737888943075\n",
    "# A0 = 217886.5251673358\n",
    "# ###\n",
    "#360\n",
    "B0 = 3.217618113595361\n",
    "PS0 = 4.954447777944039e-12\n",
    "P0 = 1191.163838139992\n",
    "M0 = 2964.318262058176\n",
    "A0 = 39607.72712179518\n",
    "####*********************************************\n",
    "#Omicron\n",
    "#90\n",
    "# B0 = 14726.352008568016\n",
    "# P0 = 11831.682870443467\n",
    "# M0 = 2253.5393837183487\n",
    "# A0 = 299710.9615240191\n",
    "# ###############\n",
    "# #180\n",
    "# B0 = 803.0184763342228\n",
    "# P0 = 5674.664088849107\n",
    "# M0 = 2431.666895220184\n",
    "# A0 = 176400.02416013\n",
    "# # ###\n",
    "# # #360\n",
    "# B0 = 2.4376884225716\n",
    "# P0 = 959.8677464595415\n",
    "# M0 = 2441.953357472441\n",
    "# A0 = 31920.990138457935\n",
    "###############################################\n",
    "V0=4.5;\n",
    "# V0=10;\n",
    "u0=[V0; 0.16;0.0 ;0.0 ; 0.0;0.015 ;1.1e-8 ;1.0 ;1.0;M0;B0;P0;A0];#1\n",
    "# u0=[V0; 0.16;0.0 ;0.0 ; 0.0;0.015 ;1.1e-8 ;1.0 ;1.0;M0;B0;PS0;P0;A0];#2\n",
    "#####################################################################\n",
    "p_F_I=2.8235*1e4*1e-4;eps_F_I =2*1e-4;\n",
    "###\n",
    "lags = [tau,taubm];"
   ]
  },
  {
   "cell_type": "code",
   "execution_count": 65,
   "metadata": {},
   "outputs": [],
   "source": [
    "#Secondary\n",
    "h(p,t) = [V0; 0.16;0.0 ;0.0 ; 0.0;0.015 ;1.1e-8 ;1.0 ;1.0;M0;B0;P0;A0];#1\n",
    "# h(p,t) = [V0; 0.16;0.0 ;0.0 ; 0.0;0.015 ;1.1e-8 ;1.0 ;1.0;M0;B0;PS0;P0;A0];#2\n",
    "alg = MethodOfSteps(Tsit5())\n",
    "##\n",
    "Emax=99;h2=1.2;Ic=662#Wuhan\n",
    "# Emax=98.7;h2=0.79;Ic=5893.32#Omicron\n",
    "###Secondary:\n",
    "p1=[tau,phat,dV,beta,Smax,lamS,dI,eps_F_I,dD,psi_F_prod, p_F_I,eta_F_I,k_lin_F,k_B_F,T_star,k_U_F,k_int_F,A_F,\n",
    "k_B_F,delta,mu_b,delta_bn,taub,rho,Pb,Pp,alpha_v,alpha_IL4,S_IL4,delta_b,delta_p,delta_m,a_ps,a_p,\n",
    "delta_a,mu_t,delta_t,mu_IL4,delta_IL4,rho_m,Emax,h2,Ic,rho_m,delta_m,taubm];\n",
    "###\n",
    "z1= DDEProblem(Immune!,u0,h,tspan,p1;constant_lags=lags);\n",
    "sol1 = solve(z1,saveat=0:0.01:600,alg,abstol=1e-8,reltol=1e-8);"
   ]
  },
  {
   "cell_type": "code",
   "execution_count": null,
   "metadata": {},
   "outputs": [],
   "source": []
  },
  {
   "cell_type": "code",
   "execution_count": null,
   "metadata": {},
   "outputs": [],
   "source": []
  }
 ],
 "metadata": {
  "kernelspec": {
   "display_name": "Julia 1.9.4",
   "language": "julia",
   "name": "julia-1.9"
  },
  "language_info": {
   "file_extension": ".jl",
   "mimetype": "application/julia",
   "name": "julia",
   "version": "1.9.4"
  }
 },
 "nbformat": 4,
 "nbformat_minor": 4
}
